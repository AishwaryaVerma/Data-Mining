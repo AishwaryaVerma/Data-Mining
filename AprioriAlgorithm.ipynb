{
 "cells": [
  {
   "cell_type": "code",
   "execution_count": 1,
   "metadata": {},
   "outputs": [
    {
     "data": {
      "text/plain": [
       "'/home/linux/Desktop'"
      ]
     },
     "execution_count": 1,
     "metadata": {},
     "output_type": "execute_result"
    }
   ],
   "source": [
    "#importing libraries\n",
    "import numpy as np\n",
    "import pandas as pd\n",
    "import os\n",
    "import itertools\n",
    "from itertools import chain\n",
    "os.getcwd()"
   ]
  },
  {
   "cell_type": "code",
   "execution_count": 2,
   "metadata": {},
   "outputs": [],
   "source": [
    "def PreparingDataset(filepath):\n",
    "    data= pd.read_csv(filepath,header=None)\n",
    "    data_dict={}\n",
    "    for i in range(0,len(data)):\n",
    "        l = data.iloc[i,0].split(',')\n",
    "        data_dict.update({i:l})\n",
    "    df = pd.DataFrame.from_dict(data_dict, orient='index')\n",
    "    return df\n",
    "    "
   ]
  },
  {
   "cell_type": "code",
   "execution_count": 3,
   "metadata": {},
   "outputs": [],
   "source": [
    "def GeneratingC1AndL1(df, min_sup):\n",
    "    unique_elements = []\n",
    "    for i in df.columns:\n",
    "        unique_elements.append(df[i].dropna().unique())\n",
    "    flattened  = [val for sublist in unique_elements for val in sublist]\n",
    "    item = list(set(flattened))\n",
    "    c1= df.apply(pd.value_counts).sum(axis=1)\n",
    "    l1 = c1[c1>=min_sup]\n",
    "    return c1,l1\n",
    "    "
   ]
  },
  {
   "cell_type": "code",
   "execution_count": 4,
   "metadata": {},
   "outputs": [],
   "source": [
    "def GeneratindCandidatesAndFrequentSets(df,c1,l1,min_sup):\n",
    "    candidates=[c1]\n",
    "    frequent_set=[l1]\n",
    "    l1_copy=l1\n",
    "    size=2\n",
    "    for j in range(len(df.columns)):\n",
    "        c2={}\n",
    "        comb=list(itertools.combinations(l1_copy.index, size))\n",
    "        for i in comb: \n",
    "            if j==0:\n",
    "                comb_prev=list(chain(*itertools.combinations(i,size-1)))\n",
    "            else:\n",
    "                comb_prev=list(itertools.combinations(i,size-1))\n",
    "\n",
    "            if set(comb_prev)<=set(l1.index.tolist()):\n",
    "                freq=df.isin(i).sum(axis=1)[df.isin(i).sum(axis=1)>1].count()\n",
    "                c2.update({i:freq}) #generation of candidates \n",
    "            else:\n",
    "                continue\n",
    "        if(len(c2)==0):\n",
    "            break        \n",
    "        c2 = pd.Series(c2)        \n",
    "        l2=c2[c2>=min_sup]  #generation of frequent Sets\n",
    "        candidates.append(c2)\n",
    "        frequent_set.append(l2)\n",
    "        l1=l2\n",
    "        size+=1\n",
    "    return candidates, frequent_set    \n",
    "    "
   ]
  },
  {
   "cell_type": "code",
   "execution_count": 11,
   "metadata": {},
   "outputs": [],
   "source": [
    "def RulesGeneration(c1,frequent_set,confidence):\n",
    "    freq_set = frequent_set[-1]\n",
    "    freq_set_dict = freq_set.to_dict()\n",
    "    for i in freq_set_dict.keys():\n",
    "        freq_set_dict[i]=freq_set_dict[i]/c1[i[0]]\n",
    "    rules = pd.Series(freq_set_dict)\n",
    "    rules=rules[rules>=confidence]\n",
    "    return rules"
   ]
  },
  {
   "cell_type": "code",
   "execution_count": 12,
   "metadata": {},
   "outputs": [],
   "source": [
    "def main():\n",
    "    filepath = input('Enter the filname with filepath')\n",
    "    threshold = float(input('Enter the minimum threshold'))\n",
    "    confidence = float(input('Enter the minimum confidence'))\n",
    "    df = PreparingDataset(filepath)\n",
    "    min_sup = threshold*len(df)\n",
    "    c1,l1 = GeneratingC1AndL1(df,min_sup)\n",
    "    candidates,frequent_set = GeneratindCandidatesAndFrequentSets(df,c1,l1,min_sup)\n",
    "    rule = RulesGeneration(c1,frequent_set,confidence)\n",
    "    rule = rule.to_dict()\n",
    "    for i in rule.keys():\n",
    "        print(i)\n",
    "    "
   ]
  },
  {
   "cell_type": "code",
   "execution_count": 13,
   "metadata": {},
   "outputs": [
    {
     "name": "stdout",
     "output_type": "stream",
     "text": [
      "Enter the filname with filepath/home/linux/Desktop/dataset.csv\n",
      "Enter the minimum threshold0.2\n",
      "Enter the minimum confidence0.5\n",
      "('BISCUIT', 'BREAD')\n",
      "('COFFEE', 'CORNFLAKES')\n",
      "('COFFEE', 'SUGER')\n",
      "('MAGGI', 'TEA')\n"
     ]
    }
   ],
   "source": [
    "main()"
   ]
  },
  {
   "cell_type": "code",
   "execution_count": null,
   "metadata": {},
   "outputs": [],
   "source": []
  }
 ],
 "metadata": {
  "kernelspec": {
   "display_name": "Python 3",
   "language": "python",
   "name": "python3"
  },
  "language_info": {
   "codemirror_mode": {
    "name": "ipython",
    "version": 3
   },
   "file_extension": ".py",
   "mimetype": "text/x-python",
   "name": "python",
   "nbconvert_exporter": "python",
   "pygments_lexer": "ipython3",
   "version": "3.7.3"
  }
 },
 "nbformat": 4,
 "nbformat_minor": 2
}
