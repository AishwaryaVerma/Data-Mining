{
 "cells": [
  {
   "cell_type": "code",
   "execution_count": 1,
   "metadata": {},
   "outputs": [],
   "source": [
    "from matplotlib import pyplot as plt\n",
    "import pandas as pd\n",
    "from sklearn import datasets\n",
    "import numpy as np\n",
    "from statistics import mean\n",
    "from scipy.spatial import distance\n",
    "import math"
   ]
  },
  {
   "cell_type": "code",
   "execution_count": 2,
   "metadata": {},
   "outputs": [],
   "source": [
    "iris = datasets.load_iris()\n",
    "x0 = iris.data"
   ]
  },
  {
   "cell_type": "code",
   "execution_count": 3,
   "metadata": {},
   "outputs": [
    {
     "data": {
      "image/png": "[encoded data removed]",
      "text/plain": [
       "<Figure size 432x288 with 1 Axes>"
      ]
     },
     "metadata": {},
     "output_type": "display_data"
    }
   ],
   "source": [
    "x=np.array([x0[:,0],x0[:,1]]).T\n",
    "x=np.unique(x,axis=0)\n",
    "plt.scatter(x[:,0],x[:,1])\n",
    "plt.show()"
   ]
  },
  {
   "cell_type": "code",
   "execution_count": 4,
   "metadata": {},
   "outputs": [],
   "source": [
    "def cluster_center(k):\n",
    "    cc=x[np.random.randint(x.shape[0], size=k), :]\n",
    "    return cc"
   ]
  },
  {
   "cell_type": "code",
   "execution_count": 5,
   "metadata": {},
   "outputs": [],
   "source": [
    "def manhattan_distance(x,y):\n",
    "     distance=0\n",
    "     distance += abs(x[0] - y[0]) + abs(x[1]-y[1])\n",
    "     return distance   "
   ]
  },
  {
   "cell_type": "code",
   "execution_count": 6,
   "metadata": {},
   "outputs": [],
   "source": [
    "def plot(cluster):\n",
    "    color=['b','g','r','c','m','y','w']\n",
    "    fig=plt.figure()\n",
    "    ax = fig.add_subplot(1,1,1)  \n",
    "    for key in cluster.keys():\n",
    "        b=np.array(cluster[key])\n",
    "        ax.scatter(b[:,0],b[:,1],color=color[key],s=30)"
   ]
  },
  {
   "cell_type": "code",
   "execution_count": 7,
   "metadata": {},
   "outputs": [],
   "source": [
    "def cost_cal(cc,c,cluster,k):\n",
    "    for i in range(0,len(x)):\n",
    "        min_dist=[]\n",
    "        for j in range(0,k):\n",
    "            dis=manhattan_distance(x[i,:],cc[j,:])\n",
    "            min_dist.append(dis)\n",
    "        c+=min(min_dist)\n",
    "        m=min_dist.index(min(min_dist))\n",
    "        cluster[m].append(list(x[i,:]))\n",
    "    return cluster,c"
   ]
  },
  {
   "cell_type": "code",
   "execution_count": 8,
   "metadata": {},
   "outputs": [],
   "source": [
    "def kmedoids(k):   \n",
    "    c1=0\n",
    "    c2=0\n",
    "    cluster1={}\n",
    "    cluster2={}\n",
    "    cc1=np.array(cluster_center(k))\n",
    "    for r in range(0,k):\n",
    "        cluster1[r]=[] \n",
    "        cluster2[r]=[]\n",
    "    for i in range(0,k):\n",
    "        cluster1,c1=cost_cal(cc1,c1,cluster1,k)\n",
    "        c=cluster_center(1)\n",
    "        while((c==cc1).any()):\n",
    "            c=cluster_center(1)\n",
    "        cc2=cc1\n",
    "        cc2[i]=c\n",
    "        cluster2,c2=cost_cal(cc2,c2,cluster2,k)\n",
    "        if(c2-c1<0):\n",
    "            cc1=cc2\n",
    "            cluster1=cluster2\n",
    "    plot(cluster1)"
   ]
  },
  {
   "cell_type": "code",
   "execution_count": 12,
   "metadata": {},
   "outputs": [
    {
     "data": {
      "image/png": "[encoded data removed]",
      "text/plain": [
       "<Figure size 432x288 with 1 Axes>"
      ]
     },
     "metadata": {},
     "output_type": "display_data"
    }
   ],
   "source": [
    "cluster=kmedoids(5)"
   ]
  },
  {
   "cell_type": "code",
   "execution_count": 27,
   "metadata": {},
   "outputs": [],
   "source": []
  },
  {
   "cell_type": "code",
   "execution_count": null,
   "metadata": {},
   "outputs": [],
   "source": []
  },
  {
   "cell_type": "code",
   "execution_count": 22,
   "metadata": {},
   "outputs": [],
   "source": []
  },
  {
   "cell_type": "code",
   "execution_count": 28,
   "metadata": {},
   "outputs": [],
   "source": []
  },
  {
   "cell_type": "code",
   "execution_count": null,
   "metadata": {},
   "outputs": [],
   "source": []
  },
  {
   "cell_type": "code",
   "execution_count": null,
   "metadata": {},
   "outputs": [],
   "source": []
  },
  {
   "cell_type": "code",
   "execution_count": null,
   "metadata": {},
   "outputs": [],
   "source": []
  },
  {
   "cell_type": "code",
   "execution_count": null,
   "metadata": {},
   "outputs": [],
   "source": []
  },
  {
   "cell_type": "code",
   "execution_count": null,
   "metadata": {},
   "outputs": [],
   "source": []
  },
  {
   "cell_type": "code",
   "execution_count": null,
   "metadata": {},
   "outputs": [],
   "source": []
  },
  {
   "cell_type": "code",
   "execution_count": null,
   "metadata": {},
   "outputs": [],
   "source": []
  }
 ],
 "metadata": {
  "kernelspec": {
   "display_name": "Python 3",
   "language": "python",
   "name": "python3"
  },
  "language_info": {
   "codemirror_mode": {
    "name": "ipython",
    "version": 3
   },
   "file_extension": ".py",
   "mimetype": "text/x-python",
   "name": "python",
   "nbconvert_exporter": "python",
   "pygments_lexer": "ipython3",
   "version": "3.6.5"
  }
 },
 "nbformat": 4,
 "nbformat_minor": 2
}
