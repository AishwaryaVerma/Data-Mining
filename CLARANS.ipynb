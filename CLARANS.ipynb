{
 "cells": [
  {
   "cell_type": "code",
   "execution_count": 14,
   "metadata": {},
   "outputs": [],
   "source": [
    "from matplotlib import pyplot as plt\n",
    "import pandas as pd\n",
    "from sklearn import datasets\n",
    "import numpy as np\n",
    "from statistics import mean\n",
    "from scipy.spatial import distance\n",
    "import math"
   ]
  },
  {
   "cell_type": "code",
   "execution_count": 15,
   "metadata": {},
   "outputs": [],
   "source": [
    "iris = datasets.load_iris()\n",
    "x0 = iris.data"
   ]
  },
  {
   "cell_type": "code",
   "execution_count": 16,
   "metadata": {},
   "outputs": [
    {
     "data": {
      "image/png": "[encoded data removed]",
      "text/plain": [
       "<Figure size 432x288 with 1 Axes>"
      ]
     },
     "metadata": {},
     "output_type": "display_data"
    }
   ],
   "source": [
    "x=np.array([x0[:,0],x0[:,1]]).T\n",
    "x=np.unique(x,axis=0)\n",
    "plt.scatter(x[:,0],x[:,1])\n",
    "plt.show()"
   ]
  },
  {
   "cell_type": "code",
   "execution_count": 17,
   "metadata": {},
   "outputs": [],
   "source": [
    "def cluster_center(k,S):\n",
    "    cc=x[np.random.randint(S.shape[0], size=k), :]\n",
    "    return cc"
   ]
  },
  {
   "cell_type": "code",
   "execution_count": 18,
   "metadata": {},
   "outputs": [],
   "source": [
    "def manhattan_distance(x,y):\n",
    "        distance=0\n",
    "        distance += abs(x[0] - y[0]) + abs(x[1]-y[1])\n",
    "        return distance"
   ]
  },
  {
   "cell_type": "code",
   "execution_count": 19,
   "metadata": {},
   "outputs": [],
   "source": [
    "def plot(cluster):\n",
    "    color=['b','g','r','c','m','y']\n",
    "    fig=plt.figure()\n",
    "    ax = fig.add_subplot(1,1,1)  \n",
    "    for key in cluster.keys():\n",
    "        b=np.array(cluster[key])\n",
    "        ax.scatter(b[:,0],b[:,1],color=color[key],s=30)"
   ]
  },
  {
   "cell_type": "code",
   "execution_count": 20,
   "metadata": {},
   "outputs": [],
   "source": [
    "def cost_cal(cc,c,cluster,k,S):\n",
    "    for i in range(0,len(S)):\n",
    "        min_dist=[]\n",
    "        for j in range(0,k):\n",
    "            dis=manhattan_distance(S[i,:],cc[j,:])\n",
    "            min_dist.append(dis)\n",
    "        c+=min(min_dist)\n",
    "        m=min_dist.index(min(min_dist))\n",
    "        cluster[m].append(list(S[i,:]))\n",
    "    return cluster,c"
   ]
  },
  {
   "cell_type": "code",
   "execution_count": 21,
   "metadata": {},
   "outputs": [],
   "source": [
    "def kmedoids(k,S):   \n",
    "    c1=0\n",
    "    c2=0\n",
    "    cluster1={}\n",
    "    cluster2={}\n",
    "    cc1=np.array(cluster_center(k,S))\n",
    "    for r in range(0,k):\n",
    "        cluster1[r]=[] \n",
    "        cluster2[r]=[]\n",
    "    for i in range(0,k):\n",
    "        cluster1,c1=cost_cal(cc1,c1,cluster1,k,S)\n",
    "        c=cluster_center(1,S)\n",
    "        while((c==cc1).any()):\n",
    "            c=cluster_center(1,S)\n",
    "        cc2=cc1\n",
    "        cc2[i]=c\n",
    "        cluster2,c2=cost_cal(cc2,c2,cluster2,k,S)\n",
    "        if(c2-c1<0):\n",
    "            cc1=cc2\n",
    "            cluster1=cluster2\n",
    "            c1=c2\n",
    "    return c1,cc1,cluster1"
   ]
  },
  {
   "cell_type": "code",
   "execution_count": 22,
   "metadata": {},
   "outputs": [],
   "source": [
    "#length of data is 150\n",
    "def clara(q,s,m):\n",
    "    mincost=0\n",
    "    for i in range(q):\n",
    "        S=x[np.random.randint(x.shape[0], size=s), :]\n",
    "        cost,cluster_center,cluster=kmedoids(m,S)\n",
    "        if(cost < mincost):\n",
    "            mincost=cost\n",
    "    return cost,cluster_center,cluster"
   ]
  },
  {
   "cell_type": "code",
   "execution_count": 40,
   "metadata": {},
   "outputs": [],
   "source": [
    "class Tree:\n",
    "    def __init__(self,data):\n",
    "        self.root=data\n",
    "        self.child=None\n",
    "    "
   ]
  },
  {
   "cell_type": "code",
   "execution_count": 38,
   "metadata": {},
   "outputs": [],
   "source": [
    "def tree_construction():\n",
    "    for i in range(1):\n",
    "        cost,medoids,clusters=clara(10,75,3)\n",
    "        data=[cost,medoids,clusters]\n",
    "        if()\n",
    "        node=Tree(data)\n",
    "        \n",
    "    print(node.data)        \n",
    "            "
   ]
  },
  {
   "cell_type": "code",
   "execution_count": 39,
   "metadata": {},
   "outputs": [
    {
     "name": "stdout",
     "output_type": "stream",
     "text": [
      "[187.10000000000005, array([[4.7, 3.2],\n",
      "       [5.6, 2.5],\n",
      "       [5.4, 3.9]]), {0: [[4.8, 3.0], [4.6, 3.2], [4.3, 3.0], [4.9, 2.5], [4.8, 3.0], [4.6, 3.6], [4.7, 3.2], [4.9, 2.4], [5.1, 2.5], [4.5, 2.3], [4.3, 3.0], [5.0, 2.0], [4.9, 3.1], [4.6, 3.1], [4.8, 3.0], [4.6, 3.2], [4.3, 3.0], [4.9, 2.5], [4.8, 3.0], [4.6, 3.6], [4.7, 3.2], [4.9, 2.4], [5.1, 2.5], [4.5, 2.3], [4.3, 3.0], [5.0, 2.0], [4.9, 3.1], [4.6, 3.1], [4.8, 3.0], [5.0, 3.4], [4.6, 3.2], [4.3, 3.0], [4.8, 3.0], [4.6, 3.6], [5.0, 3.4], [5.1, 3.3], [4.7, 3.2], [4.5, 2.3], [4.3, 3.0], [4.9, 3.1], [4.6, 3.1], [5.1, 3.3], [4.8, 3.0], [5.0, 3.4], [4.6, 3.2], [4.3, 3.0], [4.8, 3.0], [4.6, 3.6], [5.0, 3.4], [5.1, 3.3], [4.7, 3.2], [4.5, 2.3], [4.3, 3.0], [4.9, 3.1], [4.6, 3.1], [5.1, 3.3], [5.1, 3.5], [4.8, 3.0], [5.0, 3.4], [4.6, 3.2], [4.3, 3.0], [5.1, 3.5], [4.8, 3.0], [5.1, 3.5], [4.6, 3.6], [5.0, 3.4], [5.1, 3.3], [4.7, 3.2], [4.5, 2.3], [4.3, 3.0], [5.1, 3.5], [5.2, 3.4], [4.9, 3.1], [5.1, 3.5], [4.6, 3.1], [5.1, 3.3], [5.2, 3.4]], 1: [[6.4, 3.1], [5.8, 2.6], [5.9, 3.2], [5.0, 3.4], [7.6, 3.0], [6.7, 3.0], [6.8, 2.8], [5.5, 2.5], [7.7, 2.8], [5.4, 3.4], [6.1, 2.9], [6.4, 2.9], [6.1, 2.6], [5.6, 2.7], [6.0, 2.9], [5.0, 3.4], [6.3, 2.7], [5.1, 3.3], [5.9, 3.2], [7.3, 2.9], [7.7, 2.8], [6.6, 2.9], [6.9, 3.1], [6.7, 3.0], [6.9, 3.1], [6.2, 2.2], [5.6, 3.0], [5.7, 2.9], [6.9, 3.1], [5.7, 3.0], [5.2, 3.4], [5.9, 3.2], [5.8, 2.8], [5.8, 2.8], [5.2, 2.7], [6.2, 3.4], [7.0, 3.2], [5.5, 2.4], [5.1, 3.3], [5.2, 3.4], [6.7, 3.0], [5.7, 2.5], [6.4, 3.1], [6.4, 3.1], [5.8, 2.6], [5.9, 3.2], [5.0, 3.4], [7.6, 3.0], [6.7, 3.0], [6.8, 2.8], [5.5, 2.5], [7.7, 2.8], [5.4, 3.4], [6.1, 2.9], [6.4, 2.9], [6.1, 2.6], [5.6, 2.7], [6.0, 2.9], [5.0, 3.4], [6.3, 2.7], [5.1, 3.3], [5.9, 3.2], [7.3, 2.9], [7.7, 2.8], [6.6, 2.9], [6.9, 3.1], [6.7, 3.0], [6.9, 3.1], [6.2, 2.2], [5.6, 3.0], [5.7, 2.9], [6.9, 3.1], [5.7, 3.0], [5.2, 3.4], [5.9, 3.2], [5.8, 2.8], [5.8, 2.8], [5.2, 2.7], [6.2, 3.4], [7.0, 3.2], [5.5, 2.4], [5.1, 3.3], [5.2, 3.4], [6.7, 3.0], [5.7, 2.5], [6.4, 3.1], [5.8, 2.6], [7.6, 3.0], [6.7, 3.0], [6.8, 2.8], [5.5, 2.5], [7.7, 2.8], [4.9, 2.5], [6.1, 2.9], [6.4, 2.9], [6.1, 2.6], [5.6, 2.7], [6.0, 2.9], [6.3, 2.7], [7.3, 2.9], [4.9, 2.4], [5.1, 2.5], [7.7, 2.8], [6.6, 2.9], [6.7, 3.0], [6.2, 2.2], [5.6, 3.0], [5.0, 2.0], [5.7, 2.9], [5.7, 3.0], [5.8, 2.8], [5.8, 2.8], [5.2, 2.7], [5.5, 2.4], [6.7, 3.0], [5.7, 2.5], [5.8, 2.6], [7.6, 3.0], [6.7, 3.0], [6.8, 2.8], [5.5, 2.5], [7.7, 2.8], [4.9, 2.5], [6.1, 2.9], [6.4, 2.9], [6.1, 2.6], [5.6, 2.7], [6.0, 2.9], [6.3, 2.7], [7.3, 2.9], [4.9, 2.4], [5.1, 2.5], [7.7, 2.8], [6.6, 2.9], [6.7, 3.0], [6.2, 2.2], [5.6, 3.0], [5.0, 2.0], [5.7, 2.9], [5.7, 3.0], [5.8, 2.8], [5.8, 2.8], [5.2, 2.7], [5.5, 2.4], [6.7, 3.0], [5.7, 2.5], [6.4, 3.1], [5.8, 2.6], [5.9, 3.2], [7.6, 3.0], [6.7, 3.0], [6.8, 2.8], [5.5, 2.5], [7.7, 2.8], [4.9, 2.5], [6.1, 2.9], [6.4, 2.9], [6.1, 2.6], [5.6, 2.7], [6.0, 2.9], [6.3, 2.7], [5.9, 3.2], [7.3, 2.9], [4.9, 2.4], [5.1, 2.5], [7.7, 2.8], [6.6, 2.9], [6.9, 3.1], [6.7, 3.0], [6.9, 3.1], [6.2, 2.2], [5.6, 3.0], [5.0, 2.0], [5.7, 2.9], [6.9, 3.1], [5.7, 3.0], [5.9, 3.2], [5.8, 2.8], [5.8, 2.8], [5.2, 2.7], [7.0, 3.2], [5.5, 2.4], [6.7, 3.0], [5.7, 2.5], [6.4, 3.1]], 2: [[5.1, 3.5], [5.7, 3.8], [5.2, 3.5], [5.1, 3.5], [5.1, 3.5], [5.2, 3.5], [5.4, 3.7], [5.2, 3.5], [5.1, 3.7], [5.7, 4.4], [5.5, 3.5], [5.1, 3.5], [5.4, 3.9], [5.2, 4.1], [5.1, 3.5], [5.4, 3.9], [5.7, 4.4], [5.3, 3.7], [5.1, 3.5], [5.7, 3.8], [5.2, 3.5], [5.1, 3.5], [5.1, 3.5], [5.2, 3.5], [5.4, 3.7], [5.2, 3.5], [5.1, 3.7], [5.7, 4.4], [5.5, 3.5], [5.1, 3.5], [5.4, 3.9], [5.2, 4.1], [5.1, 3.5], [5.4, 3.9], [5.7, 4.4], [5.3, 3.7], [6.4, 3.1], [5.1, 3.5], [5.9, 3.2], [5.7, 3.8], [5.2, 3.5], [5.4, 3.4], [5.1, 3.5], [5.1, 3.5], [5.2, 3.5], [5.4, 3.7], [5.2, 3.5], [5.9, 3.2], [5.1, 3.7], [5.7, 4.4], [6.9, 3.1], [6.9, 3.1], [5.5, 3.5], [5.1, 3.5], [6.9, 3.1], [5.2, 3.4], [5.4, 3.9], [5.2, 4.1], [5.9, 3.2], [6.2, 3.4], [5.1, 3.5], [5.4, 3.9], [7.0, 3.2], [5.2, 3.4], [5.7, 4.4], [6.4, 3.1], [5.3, 3.7], [6.4, 3.1], [5.1, 3.5], [5.9, 3.2], [5.7, 3.8], [5.2, 3.5], [5.4, 3.4], [5.1, 3.5], [5.1, 3.5], [5.2, 3.5], [5.4, 3.7], [5.2, 3.5], [5.9, 3.2], [5.1, 3.7], [5.7, 4.4], [6.9, 3.1], [6.9, 3.1], [5.5, 3.5], [5.1, 3.5], [6.9, 3.1], [5.2, 3.4], [5.4, 3.9], [5.2, 4.1], [5.9, 3.2], [6.2, 3.4], [5.1, 3.5], [5.4, 3.9], [7.0, 3.2], [5.2, 3.4], [5.7, 4.4], [6.4, 3.1], [5.3, 3.7], [5.7, 3.8], [5.2, 3.5], [5.4, 3.4], [5.2, 3.5], [5.4, 3.7], [5.2, 3.5], [5.1, 3.7], [5.7, 4.4], [5.5, 3.5], [5.4, 3.9], [5.2, 4.1], [6.2, 3.4], [5.4, 3.9], [5.7, 4.4], [5.3, 3.7]]}]\n"
     ]
    }
   ],
   "source": [
    "tree_construction()"
   ]
  },
  {
   "cell_type": "code",
   "execution_count": 17,
   "metadata": {},
   "outputs": [
    {
     "data": {
      "image/png": "[encoded data removed]",
      "text/plain": [
       "<Figure size 432x288 with 1 Axes>"
      ]
     },
     "metadata": {},
     "output_type": "display_data"
    }
   ],
   "source": [
    "def clarans(h):\n",
    "    for i in range(h):\n",
    "        "
   ]
  },
  {
   "cell_type": "code",
   "execution_count": null,
   "metadata": {},
   "outputs": [],
   "source": []
  }
 ],
 "metadata": {
  "kernelspec": {
   "display_name": "Python 3",
   "language": "python",
   "name": "python3"
  },
  "language_info": {
   "codemirror_mode": {
    "name": "ipython",
    "version": 3
   },
   "file_extension": ".py",
   "mimetype": "text/x-python",
   "name": "python",
   "nbconvert_exporter": "python",
   "pygments_lexer": "ipython3",
   "version": "3.6.5"
  }
 },
 "nbformat": 4,
 "nbformat_minor": 2
}
